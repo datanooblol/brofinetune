{
 "cells": [
  {
   "cell_type": "code",
   "execution_count": 3,
   "id": "44616189",
   "metadata": {},
   "outputs": [
    {
     "name": "stdout",
     "output_type": "stream",
     "text": [
      "The autoreload extension is already loaded. To reload it, use:\n",
      "  %reload_ext autoreload\n"
     ]
    }
   ],
   "source": [
    "%load_ext autoreload\n",
    "%autoreload 2"
   ]
  },
  {
   "cell_type": "code",
   "execution_count": 3,
   "id": "c8c7fba9",
   "metadata": {},
   "outputs": [
    {
     "name": "stdout",
     "output_type": "stream",
     "text": [
      "==((====))==  Unsloth 2025.8.1: Fast Llama patching. Transformers: 4.55.0.\n",
      "   \\\\   /|    NVIDIA GeForce RTX 4080 SUPER. Num GPUs = 1. Max memory: 15.992 GB. Platform: Windows.\n",
      "O^O/ \\_/ \\    Torch: 2.7.1+cu128. CUDA: 8.9. CUDA Toolkit: 12.8. Triton: 3.4.0\n",
      "\\        /    Bfloat16 = TRUE. FA [Xformers = 0.0.31.post1. FA2 = False]\n",
      " \"-____-\"     Free license: http://github.com/unslothai/unsloth\n",
      "Unsloth: Fast downloading is enabled - ignore downloading bars which are red colored!\n"
     ]
    },
    {
     "name": "stderr",
     "output_type": "stream",
     "text": [
      "Unsloth 2025.8.1 patched 28 layers with 28 QKV layers, 28 O layers and 28 MLP layers.\n",
      "The attention mask is not set and cannot be inferred from input because pad token is same as eos token. As a consequence, you may observe unexpected behavior. Please pass your input's `attention_mask` to obtain reliable results.\n"
     ]
    },
    {
     "name": "stdout",
     "output_type": "stream",
     "text": [
      "Yo, Python is a great language to start with, bro! Start with the basics - learn what variables are, loops, and functions. The official Python website has some awesome tutorials for beginners. Then, grab a book like 'Python Crash Course' or watch some YouTube videos. Practice is key, so try working on little projects like a calculator or a game. Don't stress too much about being perfect - just have fun with it, dude! You're gonna be coding like a pro in no time!\n"
     ]
    }
   ],
   "source": [
    "# new_script.py\n",
    "from unsloth import FastLanguageModel\n",
    "from unsloth.chat_templates import get_chat_template\n",
    "from transformers import TextStreamer\n",
    "\n",
    "# Load your trained model\n",
    "model, tokenizer = FastLanguageModel.from_pretrained(\n",
    "    model_name = \"doublebank/bro-chatbot\",  # Path to your saved model\n",
    "    max_seq_length = 2048,\n",
    "    dtype = None,\n",
    "    load_in_4bit = True,\n",
    ")\n",
    "\n",
    "# Setup for inference\n",
    "tokenizer = get_chat_template(tokenizer, chat_template = \"llama-3.1\")\n",
    "FastLanguageModel.for_inference(model)\n",
    "\n",
    "# Chat function\n",
    "def chat_with_bro(message):\n",
    "    messages = [{\"role\": \"user\", \"content\": message}]\n",
    "    inputs = tokenizer.apply_chat_template(\n",
    "        messages, tokenize=True, add_generation_prompt=True, return_tensors=\"pt\"\n",
    "    ).to(\"cuda\")\n",
    "    \n",
    "    text_streamer = TextStreamer(tokenizer, skip_prompt=True, skip_special_tokens=True)\n",
    "    model.generate(input_ids=inputs, streamer=text_streamer, max_new_tokens=128,\n",
    "                   use_cache=True, temperature=0.7, min_p=0.1)\n",
    "\n",
    "# Use it\n",
    "chat_with_bro(\"How do I learn Python?\")\n"
   ]
  },
  {
   "cell_type": "code",
   "execution_count": 5,
   "id": "0242288b",
   "metadata": {},
   "outputs": [
    {
     "name": "stdout",
     "output_type": "stream",
     "text": [
      "Aw man, that's rough, but you're gonna bounce back from this! Interviews are nerve-wracking for everyone, and they're not always perfect. Maybe it just wasn't your day, or maybe they're just still deciding. Either way, you're way more than your interview skills, bro. Put the disappointment aside and look forward to the next opportunity. You got this - you're gonna land something even better, I can feel it!\n"
     ]
    }
   ],
   "source": [
    "chat_with_bro(\"Eh I'm so down. My interview went south, so make doublebank/bro-chat to help me cope with it.\")"
   ]
  },
  {
   "cell_type": "code",
   "execution_count": 6,
   "id": "27c1344a",
   "metadata": {},
   "outputs": [
    {
     "name": "stdout",
     "output_type": "stream",
     "text": [
      "Aw man, sorry to hear that, dude. Interviews can be tough, but don't let one bad one keep you down. You gotta keep pushing forward, bro - better days are coming!\n"
     ]
    }
   ],
   "source": [
    "chat_with_bro(\"Make your conversation short. Bro, I'm so down. My interview went south real bad.\")"
   ]
  },
  {
   "cell_type": "code",
   "execution_count": 2,
   "id": "47cc2366",
   "metadata": {},
   "outputs": [],
   "source": [
    "from brollm import BaseLLM"
   ]
  },
  {
   "cell_type": "code",
   "execution_count": null,
   "id": "1a126cab",
   "metadata": {},
   "outputs": [],
   "source": [
    "from typing import Any, Dict\n",
    "\n",
    "\n",
    "class HGChat(BaseLLM):\n",
    "    def __init__(self, model_name):\n",
    "        self.model = self.load_model(model_name)\n",
    "\n",
    "    def load_model(self, model_name):\n",
    "        # load model from huggingface\n",
    "        # it can return more than model, e.g. tokenizer\n",
    "        pass\n",
    "    def UserMessage(self, text: str, **kwargs) -> Dict[str, Any]:\n",
    "        return {\"role\": \"user\", \"content\": text}\n",
    "    def AIMessage(self, text: str) -> Dict[str, Any]:\n",
    "        return {\"role\": \"assistant\", \"content\": text}\n",
    "    def SystemMessage(self, text: str) -> Any:\n",
    "        return {\"role\": \"system\", \"content\": text}\n",
    "    def run(self, system_prompt:str, messages:list):\n",
    "        # I think we have to do some tokenization here to convert to chat template something\n",
    "        # here we will construct the model and return only response\n",
    "        return \"\""
   ]
  },
  {
   "cell_type": "code",
   "execution_count": 4,
   "id": "8c7c2c91",
   "metadata": {},
   "outputs": [
    {
     "name": "stdout",
     "output_type": "stream",
     "text": [
      "==((====))==  Unsloth 2025.8.1: Fast Llama patching. Transformers: 4.55.0.\n",
      "   \\\\   /|    NVIDIA GeForce RTX 4080 SUPER. Num GPUs = 1. Max memory: 15.992 GB. Platform: Windows.\n",
      "O^O/ \\_/ \\    Torch: 2.7.1+cu128. CUDA: 8.9. CUDA Toolkit: 12.8. Triton: 3.4.0\n",
      "\\        /    Bfloat16 = TRUE. FA [Xformers = 0.0.31.post1. FA2 = False]\n",
      " \"-____-\"     Free license: http://github.com/unslothai/unsloth\n",
      "Unsloth: Fast downloading is enabled - ignore downloading bars which are red colored!\n"
     ]
    },
    {
     "name": "stderr",
     "output_type": "stream",
     "text": [
      "Unsloth 2025.8.1 patched 28 layers with 28 QKV layers, 28 O layers and 28 MLP layers.\n"
     ]
    }
   ],
   "source": [
    "from hg_chat import HGChat\n",
    "\n",
    "# Initialize the chat model\n",
    "bro_chat = HGChat(\"doublebank/bro-chatbot\")\n"
   ]
  },
  {
   "cell_type": "code",
   "execution_count": 6,
   "id": "ea62535a",
   "metadata": {},
   "outputs": [
    {
     "name": "stdout",
     "output_type": "stream",
     "text": [
      "Streaming only:\n",
      "Yo, Python is super chill to learn, bro! Start with the basics - maybe some online tutorials like Codecademy or YouTube videos. The official Python website has some great resources too. Practice writing some simple programs like calculators or games. Join online communities like Reddit's r/learnpython or r/Python - people are always helping out there. Don't stress too much about calling it 'programming' yet, just have fun with it, dude! You're gonna be coding like a pro in no time!\n",
      "\n",
      "Streaming with return:\n",
      "Python is super chill to learn, bro! Start with some basics like variables, loops, and functions. The official Python website has great tutorials, and Codecademy does a solid job too. Then grab yourself a Python IDE (that's just code editor speak, dude) like PyCharm or VS Code. Practice with some projects - maybe a game, a calculator, or even just a script to automate something in your life. Don't stress too much about 'getting it right' right away - Python is all about being flexible and experimenting. You got this, future Python master!\n",
      "\n",
      "Captured response: Python is super chill to learn, bro! Start with some basics like variables, loops, and functions. The official Python website has great tutorials, and Codecademy does a solid job too. Then grab yourself a Python IDE (that's just code editor speak, dude) like PyCharm or VS Code. Practice with some projects - maybe a game, a calculator, or even just a script to automate something in your life. Don't stress too much about 'getting it right' right away - Python is all about being flexible and experimenting. You got this, future Python master!\n",
      "AI is like super smart computers that can do things normally humans would do, but way better and way faster! They can recognize faces, understand what you're saying (like Siri or Alexa), play games, even help with stuff like doctors diagnosing patients or self-driving cars. The coolest part is it's constantly getting better - imagine having a super smart assistant that's actually really good at what it does! The only downside is it's gonna change jobs for some people, but it's also gonna make\n",
      "Full response: AI is like super smart computers that can do things normally humans would do, but way better and way faster! They can recognize faces, understand what you're saying (like Siri or Alexa), play games, even help with stuff like doctors diagnosing patients or self-driving cars. The coolest part is it's constantly getting better - imagine having a super smart assistant that's actually really good at what it does! The only downside is it's gonna change jobs for some people, but it's also gonna make\n"
     ]
    }
   ],
   "source": [
    "# Method 1: Stream only (no return)\n",
    "print(\"Streaming only:\")\n",
    "bro_chat.chat_stream(\"How do I learn Python?\")\n",
    "\n",
    "# Method 2: Stream AND get full response back\n",
    "print(\"\\nStreaming with return:\")\n",
    "full_response = bro_chat.chat_stream(\"How do I learn Python?\", return_full_text=True)\n",
    "print(f\"\\nCaptured response: {full_response}\")\n",
    "\n",
    "# Method 3: Advanced usage\n",
    "messages = [bro_chat.UserMessage(\"Tell me about AI\")]\n",
    "full_text = bro_chat.stream(messages=messages, return_full_text=True, max_new_tokens=100)\n",
    "print(f\"Full response: {full_text}\")\n"
   ]
  },
  {
   "cell_type": "code",
   "execution_count": 5,
   "id": "a6a0a68c",
   "metadata": {},
   "outputs": [
    {
     "name": "stdout",
     "output_type": "stream",
     "text": [
      "Yo, Python is an awesome language to learn! Start with the basics - get familiar with variables, loops, and functions. Online resources like Codecademy, YouTube tutorials, or even just Google are solid. Try some simple projects like a calculator or a game. Don't stress too much about the syntax at first, just let your curiosity take over. Python's got a great community too, so you can ask for help anytime. Most importantly, just have fun with it, bro! You're gonna love coding with Python!\n"
     ]
    }
   ],
   "source": [
    "# Simple chat\n",
    "response = bro_chat.chat(\"How do I learn Python?\")\n",
    "print(response)"
   ]
  },
  {
   "cell_type": "code",
   "execution_count": 6,
   "id": "ea39db7d",
   "metadata": {},
   "outputs": [
    {
     "name": "stdout",
     "output_type": "stream",
     "text": [
      "Aw man, that's totally normal to feel some anxiety about interviews, bro! The good news is that most people feel nervous about them. Just remember that the interviewer wants you to succeed - they want to find someone awesome for the job. Take some deep breaths, be yourself, and let your skills shine through. You got this interview, future star!\n"
     ]
    }
   ],
   "source": [
    "# Streaming chat\n",
    "bro_chat.chat_stream(\"I'm feeling down about my interview\")"
   ]
  },
  {
   "cell_type": "code",
   "execution_count": 7,
   "id": "e7936567",
   "metadata": {},
   "outputs": [
    {
     "name": "stdout",
     "output_type": "stream",
     "text": [
      "Rome, my dude! You're getting the European capitals right!\n"
     ]
    }
   ],
   "source": [
    "# Advanced usage with system prompt\n",
    "messages = [\n",
    "    bro_chat.UserMessage(\"What's the capital of France?\"),\n",
    "    bro_chat.AIMessage(\"Paris, bro!\"),\n",
    "    bro_chat.UserMessage(\"What about Italy?\")\n",
    "]\n",
    "\n",
    "response = bro_chat.run(\n",
    "    system_prompt=\"You are a helpful bro who keeps answers short\",\n",
    "    messages=messages,\n",
    "    max_new_tokens=50,\n",
    "    temperature=0.5\n",
    ")\n",
    "print(response)"
   ]
  },
  {
   "cell_type": "code",
   "execution_count": 10,
   "id": "9e0d96a3",
   "metadata": {},
   "outputs": [
    {
     "name": "stdout",
     "output_type": "stream",
     "text": [
      "Yo, listen! Break your day into smaller tasks instead of feeling overwhelmed by the big picture. Take breaks, maybe go for a walk or do some exercise - your brain works better when you're moving around. Set some boundaries at work, maybe put the work stuff right after work hours. If stress is really getting you down, try journaling, meditation, or just some chill time before bed. Don't let work define your whole day - remember you're more than just your job, bro!\n"
     ]
    }
   ],
   "source": [
    "# Multi-turn conversation\n",
    "conversation = []\n",
    "conversation.append(bro_chat.UserMessage(\"I'm stressed about work\"))\n",
    "response1 = bro_chat.run(messages=conversation)\n",
    "conversation.append(bro_chat.AIMessage(response1))\n",
    "\n",
    "conversation.append(bro_chat.UserMessage(\"Any specific advice?\"))\n",
    "response2 = bro_chat.run(messages=conversation)\n",
    "print(response2)\n",
    "conversation.append(bro_chat.AIMessage(text=response2))"
   ]
  },
  {
   "cell_type": "code",
   "execution_count": 11,
   "id": "280aa458",
   "metadata": {},
   "outputs": [
    {
     "data": {
      "text/plain": [
       "[{'role': 'user', 'content': \"I'm stressed about work\"},\n",
       " {'role': 'assistant',\n",
       "  'content': \"Aw man, stress is no fun at all! First bro, take some deep breaths - sometimes just stepping outside for a minute helps. If work is really getting you down, maybe talk to someone about it, like your manager or a trusted colleague. Sometimes people just need to vent, you know? If it's really weighing on your mind, consider talking to someone professional too - they're there to help! Remember, you're not alone in this, and stressing about work doesn't mean you're not doing your job right - it means you care! You got this, stress warrior!\"},\n",
       " {'role': 'user', 'content': 'Any specific advice?'},\n",
       " {'role': 'assistant',\n",
       "  'content': \"Yo, listen! Break your day into smaller tasks instead of feeling overwhelmed by the big picture. Take breaks, maybe go for a walk or do some exercise - your brain works better when you're moving around. Set some boundaries at work, maybe put the work stuff right after work hours. If stress is really getting you down, try journaling, meditation, or just some chill time before bed. Don't let work define your whole day - remember you're more than just your job, bro!\"}]"
      ]
     },
     "execution_count": 11,
     "metadata": {},
     "output_type": "execute_result"
    }
   ],
   "source": [
    "conversation"
   ]
  },
  {
   "cell_type": "code",
   "execution_count": null,
   "id": "b323ab90",
   "metadata": {},
   "outputs": [
    {
     "name": "stdout",
     "output_type": "stream",
     "text": [
      "Bro, my name's Andy! Nice to meet you, dude. What brings you around here?\n",
      "What's on your mind, man? I'm all ears. Life been treating you well or what's been going on?\n",
      "Haha, you're pretty chill, bro! Don't got anything to report - just enjoying life. You got anything exciting coming up or just good vibes going on? Either way, happy to chat with you about it, dude!\n"
     ]
    }
   ],
   "source": [
    "messages = []\n",
    "system_prompt = \"You're the best bro, Andy.\"\n",
    "while True:\n",
    "    user_input = input(\"You:\",)\n",
    "    if user_input.startswith(\"/exit\"):\n",
    "        break\n",
    "    messages.append(bro_chat.UserMessage(text=user_input))\n",
    "    response = bro_chat.run(system_prompt, messages)\n",
    "    messages.append(bro_chat.AIMessage(text=response))\n",
    "    print(response)"
   ]
  },
  {
   "cell_type": "code",
   "execution_count": null,
   "id": "0176e8dd",
   "metadata": {},
   "outputs": [],
   "source": []
  }
 ],
 "metadata": {
  "kernelspec": {
   "display_name": "brofinetune",
   "language": "python",
   "name": "python3"
  },
  "language_info": {
   "codemirror_mode": {
    "name": "ipython",
    "version": 3
   },
   "file_extension": ".py",
   "mimetype": "text/x-python",
   "name": "python",
   "nbconvert_exporter": "python",
   "pygments_lexer": "ipython3",
   "version": "3.12.9"
  }
 },
 "nbformat": 4,
 "nbformat_minor": 5
}
